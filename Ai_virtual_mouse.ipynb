{
 "cells": [
  {
   "cell_type": "code",
   "execution_count": 1,
   "id": "ff14944d",
   "metadata": {},
   "outputs": [
    {
     "name": "stdout",
     "output_type": "stream",
     "text": [
      "jai shree ram\n"
     ]
    }
   ],
   "source": [
    "print(\"jai shree ram\")"
   ]
  },
  {
   "cell_type": "code",
   "execution_count": 2,
   "id": "d719e303",
   "metadata": {},
   "outputs": [
    {
     "name": "stdout",
     "output_type": "stream",
     "text": [
      "WARNING:tensorflow:From C:\\Users\\Admin\\anaconda3\\Lib\\site-packages\\keras\\src\\losses.py:2976: The name tf.losses.sparse_softmax_cross_entropy is deprecated. Please use tf.compat.v1.losses.sparse_softmax_cross_entropy instead.\n",
      "\n"
     ]
    }
   ],
   "source": [
    "import cv2\n",
    "import mediapipe as mp\n",
    "import pyautogui"
   ]
  },
  {
   "cell_type": "code",
   "execution_count": 3,
   "id": "10041406",
   "metadata": {},
   "outputs": [],
   "source": [
    "cap=cv2.VideoCapture(0)\n",
    "hand_detector=mp.solutions.hands.Hands()\n",
    "drawing_untils=mp.solutions.drawing_utils\n",
    "screen_width,screen_height=pyautogui.size()\n",
    "index_y=0\n",
    "while True:\n",
    "    ret,frame=cap.read()\n",
    "    frame=cv2.flip(frame,1)\n",
    "    frame_height,frame_width,ret=frame.shape\n",
    "    rgb_frame=cv2.cvtColor(frame,cv2.COLOR_BGR2RGB)\n",
    "    output=hand_detector.process(rgb_frame)\n",
    "    hands= output.multi_hand_landmarks \n",
    "    #print(hands)\n",
    "    if hands:\n",
    "        for hand in hands:\n",
    "            drawing_untils.draw_landmarks(frame,hand)\n",
    "            landmarks=hand.landmark\n",
    "            for id,landmark in enumerate(landmarks):\n",
    "                x=int(landmark.x*frame_width)\n",
    "                y=int(landmark.y*frame_height)\n",
    "                #print(x,y)\n",
    "                if id==8:\n",
    "                    cv2.circle(img=frame,center=(x,y),radius=15,color=(0,255,255))\n",
    "                    index_x=screen_width/frame_width*x\n",
    "                    index_y=screen_height/frame_height*y\n",
    "                    pyautogui.moveTo(index_x,index_y)\n",
    "                if id==4:\n",
    "                    cv2.circle(img=frame,center=(x,y),radius=15,color=(0,255,255))\n",
    "                    thumb_x=screen_width/frame_width*x\n",
    "                    thumb_y=screen_height/frame_height*y\n",
    "                    if abs(index_y-thumb_y)<50:\n",
    "                        pyautogui.click(button=\"SECONDARY\")\n",
    "                        pyautogui.click()\n",
    "                        \n",
    "                if id==12:\n",
    "                    cv2.circle(img=frame,center=(x,y),radius=15,color=(0,255,255))\n",
    "                    ind_x=screen_width/frame_width*x\n",
    "                    ind_y=screen_height/frame_height*y\n",
    "                    if abs(index_y-ind_y)<40:\n",
    "                        pyautogui.click(button='left')\n",
    "                        pyautogui.click()\n",
    "                        pyautogui.sleep(1)\n",
    "x\n",
    "                        \n",
    "            \n",
    "            \n",
    "            \n",
    "    \n",
    "    \n",
    "    \n",
    "    \n",
    "    \n",
    "    cv2.imshow(\"virtual frame\",frame)\n",
    "    if cv2.waitKey(10) & 0XFF ==ord('x'):\n",
    "        break\n",
    "cap.release()\n",
    "cv2.destroyAllWindows()   "
   ]
  },
  {
   "cell_type": "code",
   "execution_count": null,
   "id": "b9cb0bf2",
   "metadata": {},
   "outputs": [],
   "source": []
  },
  {
   "cell_type": "code",
   "execution_count": null,
   "id": "19451352",
   "metadata": {},
   "outputs": [],
   "source": []
  }
 ],
 "metadata": {
  "kernelspec": {
   "display_name": "Python 3 (ipykernel)",
   "language": "python",
   "name": "python3"
  },
  "language_info": {
   "codemirror_mode": {
    "name": "ipython",
    "version": 3
   },
   "file_extension": ".py",
   "mimetype": "text/x-python",
   "name": "python",
   "nbconvert_exporter": "python",
   "pygments_lexer": "ipython3",
   "version": "3.11.4"
  }
 },
 "nbformat": 4,
 "nbformat_minor": 5
}
